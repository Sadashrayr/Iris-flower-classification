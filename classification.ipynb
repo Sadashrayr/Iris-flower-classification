{
 "cells": [
  {
   "cell_type": "markdown",
   "id": "0ba6e120",
   "metadata": {},
   "source": [
    "# Iris Flower classification using Machine Learning"
   ]
  },
  {
   "cell_type": "markdown",
   "id": "c00cc2b4",
   "metadata": {},
   "source": [
    "#### Importing libraries"
   ]
  },
  {
   "cell_type": "code",
   "execution_count": 1,
   "id": "32f39720",
   "metadata": {},
   "outputs": [],
   "source": [
    "# TODO: Import the libraries\n",
    "import numpy as np\n",
    "import matplotlib.pyplot as plt\n",
    "import pandas as pd\n",
    "import seaborn as sns"
   ]
  },
  {
   "cell_type": "code",
   "execution_count": 2,
   "id": "33ad1c16",
   "metadata": {},
   "outputs": [],
   "source": [
    "df=pd.read_csv(r\"data\\iris.csv\")"
   ]
  },
  {
   "cell_type": "code",
   "execution_count": 3,
   "id": "0a6080fb",
   "metadata": {},
   "outputs": [
    {
     "data": {
      "application/vnd.microsoft.datawrangler.viewer.v0+json": {
       "columns": [
        {
         "name": "index",
         "rawType": "int64",
         "type": "integer"
        },
        {
         "name": "sepal_length",
         "rawType": "float64",
         "type": "float"
        },
        {
         "name": "sepal_width",
         "rawType": "float64",
         "type": "float"
        },
        {
         "name": "petal_length",
         "rawType": "float64",
         "type": "float"
        },
        {
         "name": "petal_width",
         "rawType": "float64",
         "type": "float"
        },
        {
         "name": "species",
         "rawType": "object",
         "type": "string"
        }
       ],
       "conversionMethod": "pd.DataFrame",
       "ref": "b8baaace-7938-43a3-8c9f-caed0e73783b",
       "rows": [
        [
         "0",
         "5.1",
         "3.5",
         "1.4",
         "0.2",
         "Iris-setosa"
        ],
        [
         "1",
         "4.9",
         "3.0",
         "1.4",
         "0.2",
         "Iris-setosa"
        ],
        [
         "2",
         "4.7",
         "3.2",
         "1.3",
         "0.2",
         "Iris-setosa"
        ],
        [
         "3",
         "4.6",
         "3.1",
         "1.5",
         "0.2",
         "Iris-setosa"
        ],
        [
         "4",
         "5.0",
         "3.6",
         "1.4",
         "0.2",
         "Iris-setosa"
        ]
       ],
       "shape": {
        "columns": 5,
        "rows": 5
       }
      },
      "text/html": [
       "<div>\n",
       "<style scoped>\n",
       "    .dataframe tbody tr th:only-of-type {\n",
       "        vertical-align: middle;\n",
       "    }\n",
       "\n",
       "    .dataframe tbody tr th {\n",
       "        vertical-align: top;\n",
       "    }\n",
       "\n",
       "    .dataframe thead th {\n",
       "        text-align: right;\n",
       "    }\n",
       "</style>\n",
       "<table border=\"1\" class=\"dataframe\">\n",
       "  <thead>\n",
       "    <tr style=\"text-align: right;\">\n",
       "      <th></th>\n",
       "      <th>sepal_length</th>\n",
       "      <th>sepal_width</th>\n",
       "      <th>petal_length</th>\n",
       "      <th>petal_width</th>\n",
       "      <th>species</th>\n",
       "    </tr>\n",
       "  </thead>\n",
       "  <tbody>\n",
       "    <tr>\n",
       "      <th>0</th>\n",
       "      <td>5.1</td>\n",
       "      <td>3.5</td>\n",
       "      <td>1.4</td>\n",
       "      <td>0.2</td>\n",
       "      <td>Iris-setosa</td>\n",
       "    </tr>\n",
       "    <tr>\n",
       "      <th>1</th>\n",
       "      <td>4.9</td>\n",
       "      <td>3.0</td>\n",
       "      <td>1.4</td>\n",
       "      <td>0.2</td>\n",
       "      <td>Iris-setosa</td>\n",
       "    </tr>\n",
       "    <tr>\n",
       "      <th>2</th>\n",
       "      <td>4.7</td>\n",
       "      <td>3.2</td>\n",
       "      <td>1.3</td>\n",
       "      <td>0.2</td>\n",
       "      <td>Iris-setosa</td>\n",
       "    </tr>\n",
       "    <tr>\n",
       "      <th>3</th>\n",
       "      <td>4.6</td>\n",
       "      <td>3.1</td>\n",
       "      <td>1.5</td>\n",
       "      <td>0.2</td>\n",
       "      <td>Iris-setosa</td>\n",
       "    </tr>\n",
       "    <tr>\n",
       "      <th>4</th>\n",
       "      <td>5.0</td>\n",
       "      <td>3.6</td>\n",
       "      <td>1.4</td>\n",
       "      <td>0.2</td>\n",
       "      <td>Iris-setosa</td>\n",
       "    </tr>\n",
       "  </tbody>\n",
       "</table>\n",
       "</div>"
      ],
      "text/plain": [
       "   sepal_length  sepal_width  petal_length  petal_width      species\n",
       "0           5.1          3.5           1.4          0.2  Iris-setosa\n",
       "1           4.9          3.0           1.4          0.2  Iris-setosa\n",
       "2           4.7          3.2           1.3          0.2  Iris-setosa\n",
       "3           4.6          3.1           1.5          0.2  Iris-setosa\n",
       "4           5.0          3.6           1.4          0.2  Iris-setosa"
      ]
     },
     "execution_count": 3,
     "metadata": {},
     "output_type": "execute_result"
    }
   ],
   "source": [
    "df.head()"
   ]
  },
  {
   "cell_type": "code",
   "execution_count": 4,
   "id": "bb7eac6e",
   "metadata": {},
   "outputs": [
    {
     "data": {
      "application/vnd.microsoft.datawrangler.viewer.v0+json": {
       "columns": [
        {
         "name": "index",
         "rawType": "int64",
         "type": "integer"
        },
        {
         "name": "sepal_length",
         "rawType": "float64",
         "type": "float"
        },
        {
         "name": "sepal_width",
         "rawType": "float64",
         "type": "float"
        },
        {
         "name": "petal_length",
         "rawType": "float64",
         "type": "float"
        },
        {
         "name": "petal_width",
         "rawType": "float64",
         "type": "float"
        },
        {
         "name": "species",
         "rawType": "object",
         "type": "string"
        }
       ],
       "conversionMethod": "pd.DataFrame",
       "ref": "cb7faa30-34a7-412a-b47d-7b45ed2f7bfc",
       "rows": [
        [
         "0",
         "5.1",
         "3.5",
         "1.4",
         "0.2",
         "Iris-setosa"
        ],
        [
         "1",
         "4.9",
         "3.0",
         "1.4",
         "0.2",
         "Iris-setosa"
        ],
        [
         "2",
         "4.7",
         "3.2",
         "1.3",
         "0.2",
         "Iris-setosa"
        ],
        [
         "3",
         "4.6",
         "3.1",
         "1.5",
         "0.2",
         "Iris-setosa"
        ],
        [
         "4",
         "5.0",
         "3.6",
         "1.4",
         "0.2",
         "Iris-setosa"
        ],
        [
         "5",
         "5.4",
         "3.9",
         "1.7",
         "0.4",
         "Iris-setosa"
        ],
        [
         "6",
         "4.6",
         "3.4",
         "1.4",
         "0.3",
         "Iris-setosa"
        ],
        [
         "7",
         "5.0",
         "3.4",
         "1.5",
         "0.2",
         "Iris-setosa"
        ],
        [
         "8",
         "4.4",
         "2.9",
         "1.4",
         "0.2",
         "Iris-setosa"
        ],
        [
         "9",
         "4.9",
         "3.1",
         "1.5",
         "0.1",
         "Iris-setosa"
        ],
        [
         "10",
         "5.4",
         "3.7",
         "1.5",
         "0.2",
         "Iris-setosa"
        ],
        [
         "11",
         "4.8",
         "3.4",
         "1.6",
         "0.2",
         "Iris-setosa"
        ],
        [
         "12",
         "4.8",
         "3.0",
         "1.4",
         "0.1",
         "Iris-setosa"
        ],
        [
         "13",
         "4.3",
         "3.0",
         "1.1",
         "0.1",
         "Iris-setosa"
        ],
        [
         "14",
         "5.8",
         "4.0",
         "1.2",
         "0.2",
         "Iris-setosa"
        ],
        [
         "15",
         "5.7",
         "4.4",
         "1.5",
         "0.4",
         "Iris-setosa"
        ],
        [
         "16",
         "5.4",
         "3.9",
         "1.3",
         "0.4",
         "Iris-setosa"
        ],
        [
         "17",
         "5.1",
         "3.5",
         "1.4",
         "0.3",
         "Iris-setosa"
        ],
        [
         "18",
         "5.7",
         "3.8",
         "1.7",
         "0.3",
         "Iris-setosa"
        ],
        [
         "19",
         "5.1",
         "3.8",
         "1.5",
         "0.3",
         "Iris-setosa"
        ],
        [
         "20",
         "5.4",
         "3.4",
         "1.7",
         "0.2",
         "Iris-setosa"
        ],
        [
         "21",
         "5.1",
         "3.7",
         "1.5",
         "0.4",
         "Iris-setosa"
        ],
        [
         "22",
         "4.6",
         "3.6",
         "1.0",
         "0.2",
         "Iris-setosa"
        ],
        [
         "23",
         "5.1",
         "3.3",
         "1.7",
         "0.5",
         "Iris-setosa"
        ],
        [
         "24",
         "4.8",
         "3.4",
         "1.9",
         "0.2",
         "Iris-setosa"
        ],
        [
         "25",
         "5.0",
         "3.0",
         "1.6",
         "0.2",
         "Iris-setosa"
        ],
        [
         "26",
         "5.0",
         "3.4",
         "1.6",
         "0.4",
         "Iris-setosa"
        ],
        [
         "27",
         "5.2",
         "3.5",
         "1.5",
         "0.2",
         "Iris-setosa"
        ],
        [
         "28",
         "5.2",
         "3.4",
         "1.4",
         "0.2",
         "Iris-setosa"
        ],
        [
         "29",
         "4.7",
         "3.2",
         "1.6",
         "0.2",
         "Iris-setosa"
        ],
        [
         "30",
         "4.8",
         "3.1",
         "1.6",
         "0.2",
         "Iris-setosa"
        ],
        [
         "31",
         "5.4",
         "3.4",
         "1.5",
         "0.4",
         "Iris-setosa"
        ],
        [
         "32",
         "5.2",
         "4.1",
         "1.5",
         "0.1",
         "Iris-setosa"
        ],
        [
         "33",
         "5.5",
         "4.2",
         "1.4",
         "0.2",
         "Iris-setosa"
        ],
        [
         "34",
         "4.9",
         "3.1",
         "1.5",
         "0.1",
         "Iris-setosa"
        ],
        [
         "35",
         "5.0",
         "3.2",
         "1.2",
         "0.2",
         "Iris-setosa"
        ],
        [
         "36",
         "5.5",
         "3.5",
         "1.3",
         "0.2",
         "Iris-setosa"
        ],
        [
         "37",
         "4.9",
         "3.1",
         "1.5",
         "0.1",
         "Iris-setosa"
        ],
        [
         "38",
         "4.4",
         "3.0",
         "1.3",
         "0.2",
         "Iris-setosa"
        ],
        [
         "39",
         "5.1",
         "3.4",
         "1.5",
         "0.2",
         "Iris-setosa"
        ],
        [
         "40",
         "5.0",
         "3.5",
         "1.3",
         "0.3",
         "Iris-setosa"
        ],
        [
         "41",
         "4.5",
         "2.3",
         "1.3",
         "0.3",
         "Iris-setosa"
        ],
        [
         "42",
         "4.4",
         "3.2",
         "1.3",
         "0.2",
         "Iris-setosa"
        ],
        [
         "43",
         "5.0",
         "3.5",
         "1.6",
         "0.6",
         "Iris-setosa"
        ],
        [
         "44",
         "5.1",
         "3.8",
         "1.9",
         "0.4",
         "Iris-setosa"
        ],
        [
         "45",
         "4.8",
         "3.0",
         "1.4",
         "0.3",
         "Iris-setosa"
        ],
        [
         "46",
         "5.1",
         "3.8",
         "1.6",
         "0.2",
         "Iris-setosa"
        ],
        [
         "47",
         "4.6",
         "3.2",
         "1.4",
         "0.2",
         "Iris-setosa"
        ],
        [
         "48",
         "5.3",
         "3.7",
         "1.5",
         "0.2",
         "Iris-setosa"
        ],
        [
         "49",
         "5.0",
         "3.3",
         "1.4",
         "0.2",
         "Iris-setosa"
        ]
       ],
       "shape": {
        "columns": 5,
        "rows": 150
       }
      },
      "text/html": [
       "<div>\n",
       "<style scoped>\n",
       "    .dataframe tbody tr th:only-of-type {\n",
       "        vertical-align: middle;\n",
       "    }\n",
       "\n",
       "    .dataframe tbody tr th {\n",
       "        vertical-align: top;\n",
       "    }\n",
       "\n",
       "    .dataframe thead th {\n",
       "        text-align: right;\n",
       "    }\n",
       "</style>\n",
       "<table border=\"1\" class=\"dataframe\">\n",
       "  <thead>\n",
       "    <tr style=\"text-align: right;\">\n",
       "      <th></th>\n",
       "      <th>sepal_length</th>\n",
       "      <th>sepal_width</th>\n",
       "      <th>petal_length</th>\n",
       "      <th>petal_width</th>\n",
       "      <th>species</th>\n",
       "    </tr>\n",
       "  </thead>\n",
       "  <tbody>\n",
       "    <tr>\n",
       "      <th>0</th>\n",
       "      <td>5.1</td>\n",
       "      <td>3.5</td>\n",
       "      <td>1.4</td>\n",
       "      <td>0.2</td>\n",
       "      <td>Iris-setosa</td>\n",
       "    </tr>\n",
       "    <tr>\n",
       "      <th>1</th>\n",
       "      <td>4.9</td>\n",
       "      <td>3.0</td>\n",
       "      <td>1.4</td>\n",
       "      <td>0.2</td>\n",
       "      <td>Iris-setosa</td>\n",
       "    </tr>\n",
       "    <tr>\n",
       "      <th>2</th>\n",
       "      <td>4.7</td>\n",
       "      <td>3.2</td>\n",
       "      <td>1.3</td>\n",
       "      <td>0.2</td>\n",
       "      <td>Iris-setosa</td>\n",
       "    </tr>\n",
       "    <tr>\n",
       "      <th>3</th>\n",
       "      <td>4.6</td>\n",
       "      <td>3.1</td>\n",
       "      <td>1.5</td>\n",
       "      <td>0.2</td>\n",
       "      <td>Iris-setosa</td>\n",
       "    </tr>\n",
       "    <tr>\n",
       "      <th>4</th>\n",
       "      <td>5.0</td>\n",
       "      <td>3.6</td>\n",
       "      <td>1.4</td>\n",
       "      <td>0.2</td>\n",
       "      <td>Iris-setosa</td>\n",
       "    </tr>\n",
       "    <tr>\n",
       "      <th>...</th>\n",
       "      <td>...</td>\n",
       "      <td>...</td>\n",
       "      <td>...</td>\n",
       "      <td>...</td>\n",
       "      <td>...</td>\n",
       "    </tr>\n",
       "    <tr>\n",
       "      <th>145</th>\n",
       "      <td>6.7</td>\n",
       "      <td>3.0</td>\n",
       "      <td>5.2</td>\n",
       "      <td>2.3</td>\n",
       "      <td>Iris-virginica</td>\n",
       "    </tr>\n",
       "    <tr>\n",
       "      <th>146</th>\n",
       "      <td>6.3</td>\n",
       "      <td>2.5</td>\n",
       "      <td>5.0</td>\n",
       "      <td>1.9</td>\n",
       "      <td>Iris-virginica</td>\n",
       "    </tr>\n",
       "    <tr>\n",
       "      <th>147</th>\n",
       "      <td>6.5</td>\n",
       "      <td>3.0</td>\n",
       "      <td>5.2</td>\n",
       "      <td>2.0</td>\n",
       "      <td>Iris-virginica</td>\n",
       "    </tr>\n",
       "    <tr>\n",
       "      <th>148</th>\n",
       "      <td>6.2</td>\n",
       "      <td>3.4</td>\n",
       "      <td>5.4</td>\n",
       "      <td>2.3</td>\n",
       "      <td>Iris-virginica</td>\n",
       "    </tr>\n",
       "    <tr>\n",
       "      <th>149</th>\n",
       "      <td>5.9</td>\n",
       "      <td>3.0</td>\n",
       "      <td>5.1</td>\n",
       "      <td>1.8</td>\n",
       "      <td>Iris-virginica</td>\n",
       "    </tr>\n",
       "  </tbody>\n",
       "</table>\n",
       "<p>150 rows × 5 columns</p>\n",
       "</div>"
      ],
      "text/plain": [
       "     sepal_length  sepal_width  petal_length  petal_width         species\n",
       "0             5.1          3.5           1.4          0.2     Iris-setosa\n",
       "1             4.9          3.0           1.4          0.2     Iris-setosa\n",
       "2             4.7          3.2           1.3          0.2     Iris-setosa\n",
       "3             4.6          3.1           1.5          0.2     Iris-setosa\n",
       "4             5.0          3.6           1.4          0.2     Iris-setosa\n",
       "..            ...          ...           ...          ...             ...\n",
       "145           6.7          3.0           5.2          2.3  Iris-virginica\n",
       "146           6.3          2.5           5.0          1.9  Iris-virginica\n",
       "147           6.5          3.0           5.2          2.0  Iris-virginica\n",
       "148           6.2          3.4           5.4          2.3  Iris-virginica\n",
       "149           5.9          3.0           5.1          1.8  Iris-virginica\n",
       "\n",
       "[150 rows x 5 columns]"
      ]
     },
     "execution_count": 4,
     "metadata": {},
     "output_type": "execute_result"
    }
   ],
   "source": [
    "df"
   ]
  },
  {
   "cell_type": "code",
   "execution_count": 5,
   "id": "df06cdec",
   "metadata": {},
   "outputs": [
    {
     "data": {
      "application/vnd.microsoft.datawrangler.viewer.v0+json": {
       "columns": [
        {
         "name": "index",
         "rawType": "object",
         "type": "string"
        },
        {
         "name": "sepal_length",
         "rawType": "float64",
         "type": "float"
        },
        {
         "name": "sepal_width",
         "rawType": "float64",
         "type": "float"
        },
        {
         "name": "petal_length",
         "rawType": "float64",
         "type": "float"
        },
        {
         "name": "petal_width",
         "rawType": "float64",
         "type": "float"
        }
       ],
       "conversionMethod": "pd.DataFrame",
       "ref": "1e7956e9-e1e0-4d89-94e4-a653886ce52e",
       "rows": [
        [
         "count",
         "150.0",
         "150.0",
         "150.0",
         "150.0"
        ],
        [
         "mean",
         "5.843333333333334",
         "3.0540000000000003",
         "3.758666666666666",
         "1.1986666666666668"
        ],
        [
         "std",
         "0.828066127977863",
         "0.4335943113621737",
         "1.7644204199522626",
         "0.7631607417008411"
        ],
        [
         "min",
         "4.3",
         "2.0",
         "1.0",
         "0.1"
        ],
        [
         "25%",
         "5.1",
         "2.8",
         "1.6",
         "0.3"
        ],
        [
         "50%",
         "5.8",
         "3.0",
         "4.35",
         "1.3"
        ],
        [
         "75%",
         "6.4",
         "3.3",
         "5.1",
         "1.8"
        ],
        [
         "max",
         "7.9",
         "4.4",
         "6.9",
         "2.5"
        ]
       ],
       "shape": {
        "columns": 4,
        "rows": 8
       }
      },
      "text/html": [
       "<div>\n",
       "<style scoped>\n",
       "    .dataframe tbody tr th:only-of-type {\n",
       "        vertical-align: middle;\n",
       "    }\n",
       "\n",
       "    .dataframe tbody tr th {\n",
       "        vertical-align: top;\n",
       "    }\n",
       "\n",
       "    .dataframe thead th {\n",
       "        text-align: right;\n",
       "    }\n",
       "</style>\n",
       "<table border=\"1\" class=\"dataframe\">\n",
       "  <thead>\n",
       "    <tr style=\"text-align: right;\">\n",
       "      <th></th>\n",
       "      <th>sepal_length</th>\n",
       "      <th>sepal_width</th>\n",
       "      <th>petal_length</th>\n",
       "      <th>petal_width</th>\n",
       "    </tr>\n",
       "  </thead>\n",
       "  <tbody>\n",
       "    <tr>\n",
       "      <th>count</th>\n",
       "      <td>150.000000</td>\n",
       "      <td>150.000000</td>\n",
       "      <td>150.000000</td>\n",
       "      <td>150.000000</td>\n",
       "    </tr>\n",
       "    <tr>\n",
       "      <th>mean</th>\n",
       "      <td>5.843333</td>\n",
       "      <td>3.054000</td>\n",
       "      <td>3.758667</td>\n",
       "      <td>1.198667</td>\n",
       "    </tr>\n",
       "    <tr>\n",
       "      <th>std</th>\n",
       "      <td>0.828066</td>\n",
       "      <td>0.433594</td>\n",
       "      <td>1.764420</td>\n",
       "      <td>0.763161</td>\n",
       "    </tr>\n",
       "    <tr>\n",
       "      <th>min</th>\n",
       "      <td>4.300000</td>\n",
       "      <td>2.000000</td>\n",
       "      <td>1.000000</td>\n",
       "      <td>0.100000</td>\n",
       "    </tr>\n",
       "    <tr>\n",
       "      <th>25%</th>\n",
       "      <td>5.100000</td>\n",
       "      <td>2.800000</td>\n",
       "      <td>1.600000</td>\n",
       "      <td>0.300000</td>\n",
       "    </tr>\n",
       "    <tr>\n",
       "      <th>50%</th>\n",
       "      <td>5.800000</td>\n",
       "      <td>3.000000</td>\n",
       "      <td>4.350000</td>\n",
       "      <td>1.300000</td>\n",
       "    </tr>\n",
       "    <tr>\n",
       "      <th>75%</th>\n",
       "      <td>6.400000</td>\n",
       "      <td>3.300000</td>\n",
       "      <td>5.100000</td>\n",
       "      <td>1.800000</td>\n",
       "    </tr>\n",
       "    <tr>\n",
       "      <th>max</th>\n",
       "      <td>7.900000</td>\n",
       "      <td>4.400000</td>\n",
       "      <td>6.900000</td>\n",
       "      <td>2.500000</td>\n",
       "    </tr>\n",
       "  </tbody>\n",
       "</table>\n",
       "</div>"
      ],
      "text/plain": [
       "       sepal_length  sepal_width  petal_length  petal_width\n",
       "count    150.000000   150.000000    150.000000   150.000000\n",
       "mean       5.843333     3.054000      3.758667     1.198667\n",
       "std        0.828066     0.433594      1.764420     0.763161\n",
       "min        4.300000     2.000000      1.000000     0.100000\n",
       "25%        5.100000     2.800000      1.600000     0.300000\n",
       "50%        5.800000     3.000000      4.350000     1.300000\n",
       "75%        6.400000     3.300000      5.100000     1.800000\n",
       "max        7.900000     4.400000      6.900000     2.500000"
      ]
     },
     "execution_count": 5,
     "metadata": {},
     "output_type": "execute_result"
    }
   ],
   "source": [
    "df.describe()"
   ]
  },
  {
   "cell_type": "code",
   "execution_count": 7,
   "id": "08031777",
   "metadata": {},
   "outputs": [
    {
     "data": {
      "text/plain": [
       "Index(['sepal_length', 'sepal_width', 'petal_length', 'petal_width',\n",
       "       'species'],\n",
       "      dtype='object')"
      ]
     },
     "execution_count": 7,
     "metadata": {},
     "output_type": "execute_result"
    }
   ],
   "source": [
    "df.columns"
   ]
  },
  {
   "cell_type": "code",
   "execution_count": null,
   "id": "698bb2c3",
   "metadata": {},
   "outputs": [],
   "source": [
    "from sklearn.model_selection import train_test_split\n",
    "from sklearn.preprocessing import StandardScaler\n",
    "from sklearn.metrics import classification_report, confusion_matrix\n",
    "\n",
    "from sklearn import metrics\n",
    "from sklearn.metrics import accuracy_score\n",
    "from sklearn.metrics import precision_score\n",
    "from sklearn.metrics import recall_score\n",
    "from sklearn.metrics import f1_score\n",
    "from sklearn.metrics import roc_curve\n",
    "from sklearn.metrics import roc_auc_score\n",
    "from sklearn.metrics import confusion_matrix\n",
    "from sklearn.metrics import classification_report\n",
    "from sklearn.metrics import precision_recall_curve\n",
    "from sklearn.metrics import average_precision_score\n",
    "import joblib"
   ]
  },
  {
   "cell_type": "code",
   "execution_count": 22,
   "id": "5b262e23",
   "metadata": {},
   "outputs": [],
   "source": [
    "# importing models which are used for classification\n",
    "from sklearn.neighbors import KNeighborsClassifier\n",
    "from sklearn.linear_model import LogisticRegression\n",
    "from sklearn.svm import SVC\n",
    "from sklearn.tree import DecisionTreeClassifier\n",
    "from sklearn.ensemble import RandomForestClassifier\n"
   ]
  },
  {
   "cell_type": "markdown",
   "id": "634bd41f",
   "metadata": {},
   "source": [
    "#### Data Preprocessing"
   ]
  },
  {
   "cell_type": "code",
   "execution_count": 13,
   "id": "deeedb09",
   "metadata": {},
   "outputs": [
    {
     "data": {
      "text/plain": [
       "sepal_length    0\n",
       "sepal_width     0\n",
       "petal_length    0\n",
       "petal_width     0\n",
       "species         0\n",
       "dtype: int64"
      ]
     },
     "execution_count": 13,
     "metadata": {},
     "output_type": "execute_result"
    }
   ],
   "source": [
    "df.isnull().sum() # TODO: checking for null values"
   ]
  },
  {
   "cell_type": "code",
   "execution_count": 14,
   "id": "b744641d",
   "metadata": {},
   "outputs": [],
   "source": [
    "## As we want to predict species of iris flower then only the species column will be in Y and rest all will be in X \n",
    "X=df.drop(['species'],axis=1)\n",
    "y=df['species']"
   ]
  },
  {
   "cell_type": "code",
   "execution_count": 15,
   "id": "72e9e344",
   "metadata": {},
   "outputs": [
    {
     "data": {
      "application/vnd.microsoft.datawrangler.viewer.v0+json": {
       "columns": [
        {
         "name": "index",
         "rawType": "int64",
         "type": "integer"
        },
        {
         "name": "sepal_length",
         "rawType": "float64",
         "type": "float"
        },
        {
         "name": "sepal_width",
         "rawType": "float64",
         "type": "float"
        },
        {
         "name": "petal_length",
         "rawType": "float64",
         "type": "float"
        },
        {
         "name": "petal_width",
         "rawType": "float64",
         "type": "float"
        }
       ],
       "conversionMethod": "pd.DataFrame",
       "ref": "2dcbb1ce-7939-4be0-b991-4bc6d14a7d72",
       "rows": [
        [
         "0",
         "5.1",
         "3.5",
         "1.4",
         "0.2"
        ],
        [
         "1",
         "4.9",
         "3.0",
         "1.4",
         "0.2"
        ],
        [
         "2",
         "4.7",
         "3.2",
         "1.3",
         "0.2"
        ],
        [
         "3",
         "4.6",
         "3.1",
         "1.5",
         "0.2"
        ],
        [
         "4",
         "5.0",
         "3.6",
         "1.4",
         "0.2"
        ],
        [
         "5",
         "5.4",
         "3.9",
         "1.7",
         "0.4"
        ],
        [
         "6",
         "4.6",
         "3.4",
         "1.4",
         "0.3"
        ],
        [
         "7",
         "5.0",
         "3.4",
         "1.5",
         "0.2"
        ],
        [
         "8",
         "4.4",
         "2.9",
         "1.4",
         "0.2"
        ],
        [
         "9",
         "4.9",
         "3.1",
         "1.5",
         "0.1"
        ],
        [
         "10",
         "5.4",
         "3.7",
         "1.5",
         "0.2"
        ],
        [
         "11",
         "4.8",
         "3.4",
         "1.6",
         "0.2"
        ],
        [
         "12",
         "4.8",
         "3.0",
         "1.4",
         "0.1"
        ],
        [
         "13",
         "4.3",
         "3.0",
         "1.1",
         "0.1"
        ],
        [
         "14",
         "5.8",
         "4.0",
         "1.2",
         "0.2"
        ],
        [
         "15",
         "5.7",
         "4.4",
         "1.5",
         "0.4"
        ],
        [
         "16",
         "5.4",
         "3.9",
         "1.3",
         "0.4"
        ],
        [
         "17",
         "5.1",
         "3.5",
         "1.4",
         "0.3"
        ],
        [
         "18",
         "5.7",
         "3.8",
         "1.7",
         "0.3"
        ],
        [
         "19",
         "5.1",
         "3.8",
         "1.5",
         "0.3"
        ],
        [
         "20",
         "5.4",
         "3.4",
         "1.7",
         "0.2"
        ],
        [
         "21",
         "5.1",
         "3.7",
         "1.5",
         "0.4"
        ],
        [
         "22",
         "4.6",
         "3.6",
         "1.0",
         "0.2"
        ],
        [
         "23",
         "5.1",
         "3.3",
         "1.7",
         "0.5"
        ],
        [
         "24",
         "4.8",
         "3.4",
         "1.9",
         "0.2"
        ],
        [
         "25",
         "5.0",
         "3.0",
         "1.6",
         "0.2"
        ],
        [
         "26",
         "5.0",
         "3.4",
         "1.6",
         "0.4"
        ],
        [
         "27",
         "5.2",
         "3.5",
         "1.5",
         "0.2"
        ],
        [
         "28",
         "5.2",
         "3.4",
         "1.4",
         "0.2"
        ],
        [
         "29",
         "4.7",
         "3.2",
         "1.6",
         "0.2"
        ],
        [
         "30",
         "4.8",
         "3.1",
         "1.6",
         "0.2"
        ],
        [
         "31",
         "5.4",
         "3.4",
         "1.5",
         "0.4"
        ],
        [
         "32",
         "5.2",
         "4.1",
         "1.5",
         "0.1"
        ],
        [
         "33",
         "5.5",
         "4.2",
         "1.4",
         "0.2"
        ],
        [
         "34",
         "4.9",
         "3.1",
         "1.5",
         "0.1"
        ],
        [
         "35",
         "5.0",
         "3.2",
         "1.2",
         "0.2"
        ],
        [
         "36",
         "5.5",
         "3.5",
         "1.3",
         "0.2"
        ],
        [
         "37",
         "4.9",
         "3.1",
         "1.5",
         "0.1"
        ],
        [
         "38",
         "4.4",
         "3.0",
         "1.3",
         "0.2"
        ],
        [
         "39",
         "5.1",
         "3.4",
         "1.5",
         "0.2"
        ],
        [
         "40",
         "5.0",
         "3.5",
         "1.3",
         "0.3"
        ],
        [
         "41",
         "4.5",
         "2.3",
         "1.3",
         "0.3"
        ],
        [
         "42",
         "4.4",
         "3.2",
         "1.3",
         "0.2"
        ],
        [
         "43",
         "5.0",
         "3.5",
         "1.6",
         "0.6"
        ],
        [
         "44",
         "5.1",
         "3.8",
         "1.9",
         "0.4"
        ],
        [
         "45",
         "4.8",
         "3.0",
         "1.4",
         "0.3"
        ],
        [
         "46",
         "5.1",
         "3.8",
         "1.6",
         "0.2"
        ],
        [
         "47",
         "4.6",
         "3.2",
         "1.4",
         "0.2"
        ],
        [
         "48",
         "5.3",
         "3.7",
         "1.5",
         "0.2"
        ],
        [
         "49",
         "5.0",
         "3.3",
         "1.4",
         "0.2"
        ]
       ],
       "shape": {
        "columns": 4,
        "rows": 150
       }
      },
      "text/html": [
       "<div>\n",
       "<style scoped>\n",
       "    .dataframe tbody tr th:only-of-type {\n",
       "        vertical-align: middle;\n",
       "    }\n",
       "\n",
       "    .dataframe tbody tr th {\n",
       "        vertical-align: top;\n",
       "    }\n",
       "\n",
       "    .dataframe thead th {\n",
       "        text-align: right;\n",
       "    }\n",
       "</style>\n",
       "<table border=\"1\" class=\"dataframe\">\n",
       "  <thead>\n",
       "    <tr style=\"text-align: right;\">\n",
       "      <th></th>\n",
       "      <th>sepal_length</th>\n",
       "      <th>sepal_width</th>\n",
       "      <th>petal_length</th>\n",
       "      <th>petal_width</th>\n",
       "    </tr>\n",
       "  </thead>\n",
       "  <tbody>\n",
       "    <tr>\n",
       "      <th>0</th>\n",
       "      <td>5.1</td>\n",
       "      <td>3.5</td>\n",
       "      <td>1.4</td>\n",
       "      <td>0.2</td>\n",
       "    </tr>\n",
       "    <tr>\n",
       "      <th>1</th>\n",
       "      <td>4.9</td>\n",
       "      <td>3.0</td>\n",
       "      <td>1.4</td>\n",
       "      <td>0.2</td>\n",
       "    </tr>\n",
       "    <tr>\n",
       "      <th>2</th>\n",
       "      <td>4.7</td>\n",
       "      <td>3.2</td>\n",
       "      <td>1.3</td>\n",
       "      <td>0.2</td>\n",
       "    </tr>\n",
       "    <tr>\n",
       "      <th>3</th>\n",
       "      <td>4.6</td>\n",
       "      <td>3.1</td>\n",
       "      <td>1.5</td>\n",
       "      <td>0.2</td>\n",
       "    </tr>\n",
       "    <tr>\n",
       "      <th>4</th>\n",
       "      <td>5.0</td>\n",
       "      <td>3.6</td>\n",
       "      <td>1.4</td>\n",
       "      <td>0.2</td>\n",
       "    </tr>\n",
       "    <tr>\n",
       "      <th>...</th>\n",
       "      <td>...</td>\n",
       "      <td>...</td>\n",
       "      <td>...</td>\n",
       "      <td>...</td>\n",
       "    </tr>\n",
       "    <tr>\n",
       "      <th>145</th>\n",
       "      <td>6.7</td>\n",
       "      <td>3.0</td>\n",
       "      <td>5.2</td>\n",
       "      <td>2.3</td>\n",
       "    </tr>\n",
       "    <tr>\n",
       "      <th>146</th>\n",
       "      <td>6.3</td>\n",
       "      <td>2.5</td>\n",
       "      <td>5.0</td>\n",
       "      <td>1.9</td>\n",
       "    </tr>\n",
       "    <tr>\n",
       "      <th>147</th>\n",
       "      <td>6.5</td>\n",
       "      <td>3.0</td>\n",
       "      <td>5.2</td>\n",
       "      <td>2.0</td>\n",
       "    </tr>\n",
       "    <tr>\n",
       "      <th>148</th>\n",
       "      <td>6.2</td>\n",
       "      <td>3.4</td>\n",
       "      <td>5.4</td>\n",
       "      <td>2.3</td>\n",
       "    </tr>\n",
       "    <tr>\n",
       "      <th>149</th>\n",
       "      <td>5.9</td>\n",
       "      <td>3.0</td>\n",
       "      <td>5.1</td>\n",
       "      <td>1.8</td>\n",
       "    </tr>\n",
       "  </tbody>\n",
       "</table>\n",
       "<p>150 rows × 4 columns</p>\n",
       "</div>"
      ],
      "text/plain": [
       "     sepal_length  sepal_width  petal_length  petal_width\n",
       "0             5.1          3.5           1.4          0.2\n",
       "1             4.9          3.0           1.4          0.2\n",
       "2             4.7          3.2           1.3          0.2\n",
       "3             4.6          3.1           1.5          0.2\n",
       "4             5.0          3.6           1.4          0.2\n",
       "..            ...          ...           ...          ...\n",
       "145           6.7          3.0           5.2          2.3\n",
       "146           6.3          2.5           5.0          1.9\n",
       "147           6.5          3.0           5.2          2.0\n",
       "148           6.2          3.4           5.4          2.3\n",
       "149           5.9          3.0           5.1          1.8\n",
       "\n",
       "[150 rows x 4 columns]"
      ]
     },
     "execution_count": 15,
     "metadata": {},
     "output_type": "execute_result"
    }
   ],
   "source": [
    "X"
   ]
  },
  {
   "cell_type": "code",
   "execution_count": 16,
   "id": "520de44c",
   "metadata": {},
   "outputs": [
    {
     "data": {
      "text/plain": [
       "0         Iris-setosa\n",
       "1         Iris-setosa\n",
       "2         Iris-setosa\n",
       "3         Iris-setosa\n",
       "4         Iris-setosa\n",
       "            ...      \n",
       "145    Iris-virginica\n",
       "146    Iris-virginica\n",
       "147    Iris-virginica\n",
       "148    Iris-virginica\n",
       "149    Iris-virginica\n",
       "Name: species, Length: 150, dtype: object"
      ]
     },
     "execution_count": 16,
     "metadata": {},
     "output_type": "execute_result"
    }
   ],
   "source": [
    "y"
   ]
  },
  {
   "cell_type": "code",
   "execution_count": 17,
   "id": "69616bcf",
   "metadata": {},
   "outputs": [
    {
     "name": "stdout",
     "output_type": "stream",
     "text": [
      "(120, 4) (120,)\n",
      "(30, 4) (30,)\n"
     ]
    }
   ],
   "source": [
    "## TODO: Split the dataset into training and testing sets.\n",
    "X_train,X_test,y_train,y_test=train_test_split(X,y,test_size=0.2,random_state=42)\n",
    "print(X_train.shape,y_train.shape)\n",
    "print(X_test.shape,y_test.shape)"
   ]
  },
  {
   "cell_type": "code",
   "execution_count": 20,
   "id": "361d63fb",
   "metadata": {},
   "outputs": [],
   "source": [
    "## TODO: Standardize the features\n",
    "scaler=StandardScaler()\n",
    "X_train_scaled=scaler.fit_transform(X_train)\n",
    "X_test_scaled=scaler.transform(X_test)\n"
   ]
  },
  {
   "cell_type": "markdown",
   "id": "1dc52c65",
   "metadata": {},
   "source": [
    "#### Model Training"
   ]
  },
  {
   "cell_type": "code",
   "execution_count": 23,
   "id": "a49f096b",
   "metadata": {},
   "outputs": [],
   "source": [
    "#TODO: Listing the models \n",
    "models={\n",
    "    'KNN':KNeighborsClassifier(),\n",
    "    'Logistic Regression':LogisticRegression(),\n",
    "    'SVM':SVC(),\n",
    "    'Random Forest':RandomForestClassifier(),\n",
    "    'Decision Tree':DecisionTreeClassifier()    \n",
    "}\n"
   ]
  },
  {
   "cell_type": "code",
   "execution_count": null,
   "id": "079a9a52",
   "metadata": {},
   "outputs": [],
   "source": [
    "# TODO: Check whether the models and graphs directory is there or not if not and create one\n",
    "import os\n",
    "if not os.path.exists('models'):\n",
    "    os.mkdir('models')\n",
    "if not os.path.exists('graphs'):\n",
    "    os.mkdir('graphs')"
   ]
  },
  {
   "cell_type": "code",
   "execution_count": null,
   "id": "76f25aeb",
   "metadata": {},
   "outputs": [],
   "source": [
    "# TODO: Trainig Each and every model \n",
    "for model_name,model in models.items():\n",
    "    model.fit(X_train,y_train)\n",
    "    joblib.dump(model,f'models/{model_name}.pkl')\n",
    "    print(f'{model_name} trained and saved')"
   ]
  }
 ],
 "metadata": {
  "kernelspec": {
   "display_name": "Python 3",
   "language": "python",
   "name": "python3"
  },
  "language_info": {
   "codemirror_mode": {
    "name": "ipython",
    "version": 3
   },
   "file_extension": ".py",
   "mimetype": "text/x-python",
   "name": "python",
   "nbconvert_exporter": "python",
   "pygments_lexer": "ipython3",
   "version": "3.12.0"
  }
 },
 "nbformat": 4,
 "nbformat_minor": 5
}
